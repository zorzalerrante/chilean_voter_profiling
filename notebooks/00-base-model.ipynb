{
 "cells": [
  {
   "cell_type": "code",
   "execution_count": null,
   "metadata": {},
   "outputs": [],
   "source": [
    "import matplotlib as mpl\n",
    "import matplotlib.pyplot as plt\n",
    "import numpy as np\n",
    "import pandas as pd\n",
    "import seaborn as sns\n",
    "from aves.features.utils import normalize_rows, tfidf\n",
    "from aves.models.datafusion import DataFusionModel\n",
    "from gensim.utils import deaccent\n",
    "from sklearn.metrics.pairwise import cosine_similarity\n",
    "\n",
    "sns.set(\n",
    "    style=\"whitegrid\", context=\"paper\", font_scale=0.8, font=\"Fira Sans Extra Condensed\"\n",
    ")\n",
    "mpl.rcParams[\"figure.dpi\"] = 120\n"
   ]
  },
  {
   "cell_type": "code",
   "execution_count": null,
   "metadata": {},
   "outputs": [],
   "source": [
    "casen = pd.read_stata(\"../data/external/casen_2017/Casen 2017.dta\", convert_categoricals=False)\n",
    "casen.head()\n"
   ]
  },
  {
   "cell_type": "code",
   "execution_count": null,
   "metadata": {},
   "outputs": [],
   "source": [
    "comunas = casen[\"comuna\"].unique().astype(int)\n",
    "comunas\n"
   ]
  },
  {
   "cell_type": "code",
   "execution_count": null,
   "metadata": {},
   "outputs": [],
   "source": [
    "len(comunas)\n"
   ]
  },
  {
   "cell_type": "code",
   "execution_count": null,
   "metadata": {},
   "outputs": [],
   "source": [
    "casen_2020 = pd.read_stata(\n",
    "    \"../data/external/casen_2020/Casen en Pandemia 2020 STATA.dta\"\n",
    ")\n",
    "casen_2020.head()\n"
   ]
  },
  {
   "cell_type": "code",
   "execution_count": null,
   "metadata": {},
   "outputs": [],
   "source": [
    "elecciones = pd.read_csv(\n",
    "    \"../data/external/presidenciales_2021/Servel_20211121_PRESIDENCIALES_CHILE.csv\",\n",
    "    sep=\";\",\n",
    ")\n",
    "elecciones.head()\n"
   ]
  },
  {
   "cell_type": "code",
   "execution_count": null,
   "metadata": {},
   "outputs": [],
   "source": [
    "codes = pd.read_excel(\n",
    "    \"../data/external/CUT_2018_v04.xls\"\n",
    ")\n",
    "codes\n"
   ]
  },
  {
   "cell_type": "code",
   "execution_count": null,
   "metadata": {},
   "outputs": [],
   "source": [
    "codes[\"comuna_nombre\"] = codes[\"Nombre Comuna\"].str.upper().map(deaccent)\n",
    "codes[\"comuna_nombre\"]\n"
   ]
  },
  {
   "cell_type": "code",
   "execution_count": null,
   "metadata": {},
   "outputs": [],
   "source": [
    "elecciones[\"votos_preliminar_string_strip\"] = (\n",
    "    elecciones[\"votos_preliminar_string\"].str.strip().str.replace(r\"^$\", \"0\").astype(int)\n",
    ")\n"
   ]
  },
  {
   "cell_type": "code",
   "execution_count": null,
   "metadata": {},
   "outputs": [],
   "source": [
    "elecciones.groupby(\"candidato\")[\"votos_preliminar_string_strip\"].sum()\n"
   ]
  },
  {
   "cell_type": "code",
   "execution_count": null,
   "metadata": {},
   "outputs": [],
   "source": [
    "elecciones[\"comuna_nombre\"] = elecciones[\"comuna_nombre\"].str.strip()\n",
    "elecciones[\"comuna_nombre\"]"
   ]
  },
  {
   "cell_type": "code",
   "execution_count": null,
   "metadata": {},
   "outputs": [],
   "source": [
    "turnout = (\n",
    "    elecciones.groupby([\"comuna_nombre\", \"candidato\"])[\"votos_preliminar_string_strip\"]\n",
    "    .sum()\n",
    "    .unstack()\n",
    ")\n",
    "turnout.head()\n"
   ]
  },
  {
   "cell_type": "code",
   "execution_count": null,
   "metadata": {},
   "outputs": [],
   "source": [
    "turnout.columns = list(map(lambda x: x.strip(), turnout.columns))\n",
    "turnout.columns\n"
   ]
  },
  {
   "cell_type": "code",
   "execution_count": null,
   "metadata": {},
   "outputs": [],
   "source": [
    "casen_comunas = casen.join(\n",
    "    codes.set_index(\"Código Comuna 2018\")[\"comuna_nombre\"], on=\"comuna\"\n",
    ")\n",
    "casen_comunas\n"
   ]
  },
  {
   "cell_type": "code",
   "execution_count": null,
   "metadata": {},
   "outputs": [],
   "source": [
    "casen_2020[\"comuna_nombre\"] = casen_2020[\"comuna\"].str.upper().map(deaccent)\n"
   ]
  },
  {
   "cell_type": "code",
   "execution_count": null,
   "metadata": {},
   "outputs": [],
   "source": [
    "poblacion_comunas = (\n",
    "    casen_2020[casen_2020[\"edad\"] >= 17].groupby(\"comuna_nombre\")[\"expr\"].sum()\n",
    ")\n",
    "poblacion_comunas\n"
   ]
  },
  {
   "cell_type": "code",
   "execution_count": null,
   "metadata": {},
   "outputs": [],
   "source": [
    "poblacion_comunas.sum()\n"
   ]
  },
  {
   "cell_type": "code",
   "execution_count": null,
   "metadata": {},
   "outputs": [],
   "source": [
    "candidatos = [\n",
    "    \"EDUARDO ARTES BRICHETTI\",\n",
    "    \"GABRIEL BORIC FONT\",\n",
    "    \"JOSE ANTONIO KAST RIST\",\n",
    "    \"MARCO ENRIQUEZ-OMINAMI GUMUCIO\",\n",
    "    \"FRANCO PARISI FERNANDEZ\",\n",
    "    \"YASNA PROVOSTE CAMPILLAY\",\n",
    "    \"SEBASTIAN SICHEL RAMIREZ\",\n",
    "]\n",
    "columnas_votos = candidatos + [\"Votos Blancos\", \"Votos Nulos\"]\n",
    "columnas_votos\n"
   ]
  },
  {
   "cell_type": "code",
   "execution_count": null,
   "metadata": {},
   "outputs": [],
   "source": [
    "turnout = (\n",
    "    turnout.reset_index()\n",
    "    .assign(comuna_nombre=lambda x: x[\"comuna_nombre\"].map(deaccent))\n",
    "    .set_index(\"comuna_nombre\")[columnas_votos]\n",
    ")\n"
   ]
  },
  {
   "cell_type": "code",
   "execution_count": null,
   "metadata": {},
   "outputs": [],
   "source": [
    "total_votos = turnout[columnas_votos].sum(axis=1)\n",
    "total_votos\n"
   ]
  },
  {
   "cell_type": "code",
   "execution_count": null,
   "metadata": {},
   "outputs": [],
   "source": [
    "abstencion = (poblacion_comunas - total_votos).rename(\"Abstención\")\n",
    "abstencion\n"
   ]
  },
  {
   "cell_type": "code",
   "execution_count": null,
   "metadata": {},
   "outputs": [],
   "source": [
    "turnout = turnout.join(abstencion, how=\"left\")[columnas_votos + [\"Abstención\"]]\n"
   ]
  },
  {
   "cell_type": "code",
   "execution_count": null,
   "metadata": {},
   "outputs": [],
   "source": [
    "turnout.sum()\n"
   ]
  },
  {
   "cell_type": "code",
   "execution_count": null,
   "metadata": {},
   "outputs": [],
   "source": [
    "stopwords = pd.read_csv(\n",
    "    \"../data/external/stopwords-es.txt\",\n",
    "    names=[\"word\"],\n",
    ")\n",
    "stopwords.sample(10)\n"
   ]
  },
  {
   "cell_type": "code",
   "execution_count": null,
   "metadata": {},
   "outputs": [],
   "source": [
    "from glob import glob\n",
    "\n",
    "programas = sorted(\n",
    "    glob(\n",
    "        \"../data/external/programas-presidenciales-2021/programas-primera-vuelta/*.txt\"\n",
    "    )\n",
    ")\n",
    "programas\n"
   ]
  },
  {
   "cell_type": "code",
   "execution_count": null,
   "metadata": {},
   "outputs": [],
   "source": [
    "from sklearn.feature_extraction.text import CountVectorizer\n",
    "from aves.features.twokenize import tokenize\n",
    "\n",
    "vectorizer = CountVectorizer(\n",
    "    input=\"filename\", tokenizer=tokenize, stop_words=list(stopwords[\"word\"])\n",
    ")\n",
    "dtm = vectorizer.fit_transform(programas)\n"
   ]
  },
  {
   "cell_type": "code",
   "execution_count": null,
   "metadata": {},
   "outputs": [],
   "source": [
    "from sklearn.feature_extraction.text import TfidfTransformer\n",
    "\n",
    "tfidf = TfidfTransformer(sublinear_tf=True, norm=\"l2\", smooth_idf=True)\n",
    "weighted_dtm = tfidf.fit_transform(dtm)\n",
    "weighted_dtm_df = pd.DataFrame(\n",
    "    weighted_dtm.todense(), index=candidatos, columns=vectorizer.get_feature_names()\n",
    ")\n",
    "weighted_dtm_df = weighted_dtm_df[[c for c in weighted_dtm_df.columns if len(c) >= 3]]\n",
    "weighted_dtm_df.loc[\"GABRIEL BORIC FONT\"].sort_values(ascending=False).head(15)\n"
   ]
  },
  {
   "cell_type": "code",
   "execution_count": null,
   "metadata": {},
   "outputs": [],
   "source": [
    "for c in candidatos:\n",
    "    print(c)\n",
    "    print(weighted_dtm_df.loc[c].sort_values(ascending=False).head(15).index)\n"
   ]
  },
  {
   "cell_type": "code",
   "execution_count": null,
   "metadata": {},
   "outputs": [],
   "source": [
    "weighted_dtm_df_T = weighted_dtm_df.T\n",
    "\n",
    "for c in turnout.columns:\n",
    "    if not c in weighted_dtm_df_T.columns:\n",
    "        weighted_dtm_df_T[c] = 0\n",
    "\n",
    "weighted_dtm_df = weighted_dtm_df_T.T\n",
    "weighted_dtm_df\n"
   ]
  },
  {
   "cell_type": "markdown",
   "metadata": {},
   "source": [
    "## Matrices por comunas"
   ]
  },
  {
   "cell_type": "code",
   "execution_count": null,
   "metadata": {},
   "outputs": [],
   "source": [
    "comunas_x_ingreso = (\n",
    "    casen_comunas.groupby([\"comuna_nombre\", \"dautr\"])[\"expr\"]\n",
    "    .sum()\n",
    "    .unstack(fill_value=0)\n",
    ")\n",
    "comunas_x_ingreso\n"
   ]
  },
  {
   "cell_type": "code",
   "execution_count": null,
   "metadata": {},
   "outputs": [],
   "source": [
    "comunas_index = turnout.join(comunas_x_ingreso, how=\"inner\").index\n",
    "comunas_index\n"
   ]
  },
  {
   "cell_type": "code",
   "execution_count": null,
   "metadata": {},
   "outputs": [],
   "source": [
    "comunas_x_ingreso = comunas_x_ingreso.loc[comunas_index]\n",
    "comunas_x_ingreso"
   ]
  },
  {
   "cell_type": "code",
   "execution_count": null,
   "metadata": {},
   "outputs": [],
   "source": [
    "comunas_x_drogas = (\n",
    "    casen_comunas.groupby([\"comuna_nombre\", \"v38b\"])[\"expr\"].sum().unstack(fill_value=0).loc[comunas_index]\n",
    ")\n",
    "comunas_x_drogas.columns = [\"Nunca\", \"Pocas veces\", \"Muchas veces\", \"Siempre\", \"N/A\"]\n",
    "comunas_x_drogas\n"
   ]
  },
  {
   "cell_type": "code",
   "execution_count": null,
   "metadata": {},
   "outputs": [],
   "source": [
    "casen_comunas[\"grupo_etareo\"] = pd.cut(\n",
    "    casen_comunas[\"edad\"], bins=[-1, 17, 25, 35, 45, 55, 65, 75, 85, 95, 120]\n",
    ")\n",
    "comunas_x_edad = (\n",
    "    casen_comunas.groupby([\"comuna_nombre\", \"grupo_etareo\"])[\"expr\"]\n",
    "    .sum()\n",
    "    .unstack(fill_value=0).loc[comunas_index]\n",
    ")\n",
    "comunas_x_edad\n"
   ]
  },
  {
   "cell_type": "code",
   "execution_count": null,
   "metadata": {},
   "outputs": [],
   "source": [
    "column_map = {1: \"prepaid\", 2: \"contract\", 3: \"prepaid_and_contract\", 4: \"no\", 9: \"n/a\"}\n",
    "comunas_x_moviles = casen_comunas.pivot_table(\n",
    "    index=\"comuna_nombre\", columns=\"r22\", values=\"expr\", aggfunc=\"sum\"\n",
    ").fillna(0).loc[comunas_index]\n",
    "comunas_x_moviles.columns = comunas_x_moviles.columns.map(lambda x: column_map[int(x)])\n",
    "comunas_x_moviles\n"
   ]
  },
  {
   "cell_type": "code",
   "execution_count": null,
   "metadata": {},
   "outputs": [],
   "source": [
    "comunas_x_trabajo = (\n",
    "    casen_2020.groupby([\"comuna_nombre\", \"o15\"])[\"expr\"].sum().unstack(fill_value=0).loc[comunas_index]\n",
    ")\n",
    "comunas_x_trabajo\n"
   ]
  },
  {
   "cell_type": "code",
   "execution_count": null,
   "metadata": {},
   "outputs": [],
   "source": [
    "comunas_x_oficio = (\n",
    "    casen_2020.groupby([\"comuna_nombre\", \"oficio1_88\"])[\"expr\"]\n",
    "    .sum()\n",
    "    .unstack(fill_value=0).loc[comunas_index]\n",
    ")\n",
    "comunas_x_oficio\n"
   ]
  },
  {
   "cell_type": "code",
   "execution_count": null,
   "metadata": {},
   "outputs": [],
   "source": [
    "comunas_x_origen = (\n",
    "    casen_2020.groupby([\"comuna_nombre\", \"r1b\"])[\"expr\"].sum().unstack(fill_value=0).loc[comunas_index]\n",
    ")\n",
    "comunas_x_origen\n"
   ]
  },
  {
   "cell_type": "code",
   "execution_count": null,
   "metadata": {},
   "outputs": [],
   "source": [
    "comunas_x_migrantes = (\n",
    "    casen_2020.groupby([\"comuna_nombre\", \"r1b_p_cod\"])[\"expr\"]\n",
    "    .sum()\n",
    "    .unstack(fill_value=0).loc[comunas_index]\n",
    ")\n",
    "comunas_x_migrantes\n"
   ]
  },
  {
   "cell_type": "code",
   "execution_count": null,
   "metadata": {},
   "outputs": [],
   "source": [
    "comunas_x_tipo_hogar = (\n",
    "    casen_2020.groupby([\"comuna_nombre\", \"tipohogar\"])[\"expr\"]\n",
    "    .sum()\n",
    "    .unstack(fill_value=0).loc[comunas_index]\n",
    ")\n",
    "comunas_x_tipo_hogar\n"
   ]
  },
  {
   "cell_type": "code",
   "execution_count": null,
   "metadata": {},
   "outputs": [],
   "source": [
    "comunas_x_estado_civil = (\n",
    "    casen_2020.groupby([\"comuna_nombre\", \"ecivil\"])[\"expr\"]\n",
    "    .sum()\n",
    "    .unstack(fill_value=0)\n",
    "    .drop(\"No sabe\\\\No responde\", axis=1).loc[comunas_index]\n",
    ")\n",
    "comunas_x_estado_civil\n"
   ]
  },
  {
   "cell_type": "code",
   "execution_count": null,
   "metadata": {},
   "outputs": [],
   "source": [
    "comunas_x_area = (\n",
    "    casen_2020.groupby([\"comuna_nombre\", \"area\"])[\"expr\"].sum().unstack(fill_value=0).loc[comunas_index]\n",
    ")\n",
    "comunas_x_area\n"
   ]
  },
  {
   "cell_type": "code",
   "execution_count": null,
   "metadata": {},
   "outputs": [],
   "source": [
    "comunas_x_retiro = (\n",
    "    casen_2020.groupby([\"comuna_nombre\", \"o32b\"])[\"expr\"].sum().unstack(fill_value=0).loc[comunas_index]\n",
    ")\n",
    "comunas_x_retiro\n"
   ]
  },
  {
   "cell_type": "code",
   "execution_count": null,
   "metadata": {},
   "outputs": [],
   "source": [
    "comunas_x_edad = (\n",
    "    casen_2020[casen_2020[\"edad\"] >= 17]\n",
    "    .assign(\n",
    "        grupo_etareo=lambda x: pd.cut(\n",
    "            x[\"edad\"], bins=[17, 25, 35, 45, 55, 65, 75, 85, 95, 120]\n",
    "        )\n",
    "    )\n",
    "    .groupby([\"comuna_nombre\", \"grupo_etareo\"])[\"expr\"]\n",
    "    .sum()\n",
    "    .unstack(fill_value=0).loc[comunas_index]\n",
    ")\n",
    "comunas_x_edad\n"
   ]
  },
  {
   "cell_type": "code",
   "execution_count": null,
   "metadata": {},
   "outputs": [],
   "source": [
    "comunas_x_internet = (\n",
    "    casen_comunas[casen_comunas[\"edad\"] >= 18]\n",
    "    .groupby([\"comuna_nombre\", \"r21a\"])[\"expr\"]\n",
    "    .sum()\n",
    "    .unstack(fill_value=0).loc[comunas_index]\n",
    ")\n",
    "comunas_x_internet.columns = [\n",
    "    \"Usó redes sociales/Internet para informarse\",\n",
    "    \"No usa redes sociales/Internet para informarse\",\n",
    "    \"N/A\",\n",
    "]\n",
    "comunas_x_internet\n"
   ]
  },
  {
   "cell_type": "code",
   "execution_count": null,
   "metadata": {},
   "outputs": [],
   "source": [
    "delitos = pd.read_csv(\n",
    "    \"../data/external/delitos_cl_2016/Frec_CASOS_POLICIALES_ANUAL_2016.csv\"\n",
    ")\n",
    "delitos\n"
   ]
  },
  {
   "cell_type": "code",
   "execution_count": null,
   "metadata": {},
   "outputs": [],
   "source": [
    "comunas_x_delitos = (\n",
    "    delitos[delitos[\"UN_ADMIN\"] == \"COMUNA\"]\n",
    "    .assign(\n",
    "        comuna_nombre=lambda x: x[\"UNIDAD TERRITORIAL\"]\n",
    "        .str.replace(\"La Calera\", \"Calera\")\n",
    "        .str.upper()\n",
    "        .map(deaccent)\n",
    "    )\n",
    "    .set_index(\"comuna_nombre\")\n",
    "    .drop([\"ORDEN\", \"UN_ADMIN\", \"REGION\", \"UNIDAD TERRITORIAL\"], axis=1).loc[comunas_index]\n",
    ")\n",
    "\n",
    "comunas_x_delitos\n"
   ]
  },
  {
   "cell_type": "markdown",
   "metadata": {},
   "source": [
    "## Modelo de Fusión de Datos"
   ]
  },
  {
   "cell_type": "code",
   "execution_count": null,
   "metadata": {},
   "outputs": [],
   "source": [
    "from aves.features.utils import tfidf as aves_tfidf\n",
    "\n",
    "# dimensión (rank) de la representación latente de cada entidad\n",
    "model_nodes = {\n",
    "    \"candidatos\": 12,\n",
    "    \"comunas\": 64,\n",
    "    \"grupo_etareo\": 6,\n",
    "    \"programa\": 24,\n",
    "    \"ingreso\": 6,\n",
    "    \"celular\": 2,\n",
    "    \"oficio\": 8,\n",
    "    \"trabajo\": 8,\n",
    "    \"retiro\": 2,\n",
    "    \"origen\": 2,\n",
    "    \"migrantes\": 8,\n",
    "    \"hogar\": 4,\n",
    "    \"narcotráfico\": 3,\n",
    "    \"estado_civil\": 4,\n",
    "    \"area\": 2,\n",
    "    \"delincuencia\": 4,\n",
    "    \"internet_inf\": 2,\n",
    "}\n",
    "\n",
    "# relaciones entre entidades\n",
    "# normalizamos todo\n",
    "model_relations = {\n",
    "    (\"candidatos\", \"comunas\"): [turnout.fillna(0).pipe(lambda x: aves_tfidf(x, norm='l2', smooth_idf=True)).T[comunas_index]],\n",
    "    (\"comunas\", \"grupo_etareo\"): [\n",
    "        comunas_x_edad.pipe(normalize_rows)\n",
    "    ],\n",
    "    (\"comunas\", \"ingreso\"): [comunas_x_ingreso.pipe(normalize_rows)],\n",
    "    (\"programa\", \"candidatos\"): [weighted_dtm_df.T],\n",
    "    (\"comunas\", \"celular\"): [comunas_x_moviles.pipe(normalize_rows)],\n",
    "    (\"comunas\", \"oficio\"): [comunas_x_oficio.pipe(normalize_rows)],\n",
    "    (\"comunas\", \"trabajo\"): [comunas_x_trabajo.pipe(normalize_rows)],\n",
    "    (\"comunas\", \"retiro\"): [comunas_x_retiro.pipe(normalize_rows)],\n",
    "    (\"comunas\", \"origen\"): [comunas_x_origen.pipe(normalize_rows)],\n",
    "    (\"comunas\", \"migrantes\"): [\n",
    "        comunas_x_migrantes.pipe(normalize_rows)\n",
    "    ],\n",
    "    (\"comunas\", \"hogar\"): [\n",
    "        comunas_x_tipo_hogar.pipe(normalize_rows)\n",
    "    ],\n",
    "    (\"comunas\", \"narcotráfico\"): [\n",
    "        comunas_x_drogas.pipe(normalize_rows)\n",
    "    ],\n",
    "    (\"comunas\", \"estado_civil\"): [\n",
    "        comunas_x_estado_civil.pipe(normalize_rows)\n",
    "    ],\n",
    "    (\"comunas\", \"area\"): [comunas_x_area.pipe(normalize_rows)],\n",
    "    (\"comunas\", \"delincuencia\"): [\n",
    "        comunas_x_delitos.pipe(normalize_rows)\n",
    "    ],\n",
    "    (\"comunas\", \"internet_inf\"): [\n",
    "        comunas_x_internet.pipe(normalize_rows)\n",
    "    ],\n",
    "}\n",
    "\n",
    "model = DataFusionModel(nodes=model_nodes, relations=model_relations)\n",
    "model.fit()\n"
   ]
  },
  {
   "cell_type": "code",
   "execution_count": null,
   "metadata": {},
   "outputs": [],
   "source": [
    "import seaborn as sns\n",
    "\n",
    "sns.heatmap(model.factor(\"candidatos\"), annot=True)\n"
   ]
  },
  {
   "cell_type": "code",
   "execution_count": null,
   "metadata": {},
   "outputs": [],
   "source": [
    "sns.heatmap(model.factor(\"candidatos\").T.corr(), annot=True, center=0, cmap=\"PuOr_r\")\n"
   ]
  },
  {
   "cell_type": "code",
   "execution_count": null,
   "metadata": {},
   "outputs": [],
   "source": [
    "similarity = pd.DataFrame(\n",
    "    cosine_similarity(model.factor(\"candidatos\")),\n",
    "    index=turnout.columns,\n",
    "    columns=turnout.columns,\n",
    ")\n",
    "sns.heatmap(similarity, annot=True, cmap=\"Purples\")\n"
   ]
  },
  {
   "cell_type": "code",
   "execution_count": null,
   "metadata": {},
   "outputs": [],
   "source": [
    "model.relation_profiles(\"candidatos\", \"grupo_etareo\")[0][1]"
   ]
  },
  {
   "cell_type": "code",
   "execution_count": null,
   "metadata": {},
   "outputs": [],
   "source": [
    "from aves.features.utils import standardize_columns, standardize_rows\n",
    "\n",
    "grid = sns.clustermap(\n",
    "    model.relation_profiles(\"candidatos\", \"grupo_etareo\")[0][1].pipe(\n",
    "        standardize_columns\n",
    "    ),\n",
    "    col_cluster=False,\n",
    "    figsize=(7, 4),\n",
    "    annot=True,\n",
    "    fmt=\".2f\",\n",
    "    linewidth=0.5,\n",
    "    dendrogram_ratio=[0.1, 0.0],\n",
    "    method=\"ward\",\n",
    "    center=0,\n",
    "    cmap=\"PuOr_r\",\n",
    ")\n",
    "\n",
    "grid.ax_cbar.set_visible(False)\n",
    "grid.ax_heatmap\n",
    "\n",
    "grid.ax_heatmap.set_ylabel(\"\")\n",
    "grid.ax_heatmap.set_xlabel(\"Grupo Etáreo [años]\")\n",
    "grid.ax_heatmap.set_title(\n",
    "    \"Asociación entre Votación y Edad por Comunas (Fuentes: Servel, CASEN 2017, CASEN 2020)\",\n",
    "    loc=\"left\",\n",
    ")\n",
    "\n",
    "grid.fig.tight_layout()\n"
   ]
  },
  {
   "cell_type": "code",
   "execution_count": null,
   "metadata": {},
   "outputs": [],
   "source": [
    "grid = sns.clustermap(\n",
    "    model.relation_profiles(\"candidatos\", \"ingreso\")[0][1].pipe(standardize_columns),\n",
    "    col_cluster=False,\n",
    "    figsize=(7, 4),\n",
    "    annot=True,\n",
    "    fmt=\".2f\",\n",
    "    linewidth=0.5,\n",
    "    dendrogram_ratio=[0.1, 0.0],\n",
    "    method=\"ward\",\n",
    "    center=0,\n",
    "    cmap=\"PuOr_r\",\n",
    ")\n",
    "\n",
    "grid.ax_cbar.set_visible(False)\n",
    "grid.ax_heatmap\n",
    "\n",
    "grid.ax_heatmap.set_ylabel(\"\")\n",
    "grid.ax_heatmap.set_xlabel(\"Decil de Ingreso Autónomo Regional (mayor: más ingreso)\")\n",
    "grid.ax_heatmap.set_title(\n",
    "    \"Asociación entre Votación e Ingreso por Comunas (Fuentes: Servel, CASEN 2017, CASEN 2020)\",\n",
    "    loc=\"left\",\n",
    ")\n",
    "\n",
    "grid.fig.tight_layout()\n"
   ]
  },
  {
   "cell_type": "code",
   "execution_count": null,
   "metadata": {},
   "outputs": [],
   "source": [
    "grid = sns.clustermap(\n",
    "    model.relation_profiles(\"candidatos\", \"delincuencia\")[0][1].T.pipe(\n",
    "        standardize_rows\n",
    "    ),\n",
    "    col_cluster=True,\n",
    "    figsize=(7, 5),\n",
    "    annot=True,\n",
    "    fmt=\".2f\",\n",
    "    linewidth=0.5,\n",
    "    dendrogram_ratio=[0.1, 0.0],\n",
    "    method=\"ward\",\n",
    "    center=0,\n",
    "    cmap=\"PuOr_r\",\n",
    ")\n",
    "\n",
    "grid.ax_cbar.set_visible(False)\n",
    "grid.ax_heatmap\n",
    "\n",
    "grid.ax_heatmap.set_ylabel(\"\")\n",
    "grid.ax_heatmap.set_xlabel(\"\")\n",
    "grid.ax_heatmap.set_title(\n",
    "    \"Asociación entre Votación y Delitos de Connotación Social (Fuentes: Servel, CASEN 2017, CASEN 2020, SubSec. Prev. Delito)\",\n",
    "    loc=\"left\",\n",
    ")\n",
    "\n",
    "grid.fig.tight_layout()\n"
   ]
  },
  {
   "cell_type": "code",
   "execution_count": null,
   "metadata": {},
   "outputs": [],
   "source": [
    "sns.heatmap(\n",
    "    model.relation_profiles(\"candidatos\", \"narcotráfico\")[0][1].pipe(standardize_rows),\n",
    "    center=0,\n",
    ")\n"
   ]
  },
  {
   "cell_type": "code",
   "execution_count": null,
   "metadata": {},
   "outputs": [],
   "source": [
    "grid = sns.clustermap(\n",
    "    model.relation_profiles(\"candidatos\", \"internet_inf\")[0][1].T.pipe(\n",
    "        standardize_rows\n",
    "    ),\n",
    "    col_cluster=True,\n",
    "    figsize=(7, 3),\n",
    "    annot=True,\n",
    "    fmt=\".2f\",\n",
    "    linewidth=0.5,\n",
    "    dendrogram_ratio=[0.1, 0.0],\n",
    "    method=\"ward\",\n",
    "    center=0,\n",
    "    cmap=\"PuOr_r\",\n",
    ")\n",
    "\n",
    "grid.ax_cbar.set_visible(False)\n",
    "grid.ax_heatmap\n",
    "\n",
    "grid.ax_heatmap.set_ylabel(\"\")\n",
    "grid.ax_heatmap.set_xlabel(\"\")\n",
    "grid.ax_heatmap.set_title(\n",
    "    \"Asociación entre Votación e Internet como fuente de información (Fuentes: Servel, CASEN 2017, CASEN 2020, SubSec. Prev. Delito)\",\n",
    "    loc=\"left\",\n",
    ")\n",
    "\n",
    "grid.fig.tight_layout()\n"
   ]
  },
  {
   "cell_type": "code",
   "execution_count": null,
   "metadata": {},
   "outputs": [],
   "source": [
    "sns.heatmap(model.relation_profiles(\"candidatos\", \"celular\")[0][1], center=0)\n"
   ]
  },
  {
   "cell_type": "code",
   "execution_count": null,
   "metadata": {},
   "outputs": [],
   "source": [
    "grid = sns.clustermap(\n",
    "    model.relation_profiles(\"candidatos\", \"trabajo\")[0][1].T.pipe(standardize_rows),\n",
    "    col_cluster=True,\n",
    "    figsize=(7, 5),\n",
    "    annot=True,\n",
    "    fmt=\".2f\",\n",
    "    linewidth=0.5,\n",
    "    dendrogram_ratio=[0.1, 0.0],\n",
    "    method=\"ward\",\n",
    "    center=0,\n",
    "    cmap=\"PuOr_r\",\n",
    ")\n",
    "\n",
    "grid.ax_cbar.set_visible(False)\n",
    "grid.ax_heatmap\n",
    "\n",
    "grid.ax_heatmap.set_ylabel(\"\")\n",
    "grid.ax_heatmap.set_xlabel(\"\")\n",
    "grid.ax_heatmap.set_title(\n",
    "    \"Asociación entre Votación y Tipo de Trabajo por Comuna (Fuentes: Servel, CASEN 2017, CASEN 2020)\",\n",
    "    loc=\"left\",\n",
    ")\n",
    "\n",
    "grid.fig.tight_layout()\n"
   ]
  },
  {
   "cell_type": "code",
   "execution_count": null,
   "metadata": {},
   "outputs": [],
   "source": [
    "sns.heatmap(\n",
    "    model.relation_profiles(\"candidatos\", \"area\")[0][1].pipe(standardize_columns),\n",
    "    center=0,\n",
    ")\n"
   ]
  },
  {
   "cell_type": "code",
   "execution_count": null,
   "metadata": {},
   "outputs": [],
   "source": [
    "sns.heatmap(model.relation_profiles(\"candidatos\", \"origen\")[0][1], center=0)\n"
   ]
  },
  {
   "cell_type": "code",
   "execution_count": null,
   "metadata": {},
   "outputs": [],
   "source": [
    "grid = sns.clustermap(\n",
    "    model.relation_profiles(\"candidatos\", \"estado_civil\")[0][1].T.pipe(\n",
    "        standardize_rows\n",
    "    ),\n",
    "    col_cluster=False,\n",
    "    figsize=(7, 4),\n",
    "    annot=True,\n",
    "    fmt=\".2f\",\n",
    "    linewidth=0.5,\n",
    "    dendrogram_ratio=[0.1, 0.0],\n",
    "    method=\"ward\",\n",
    "    center=0,\n",
    "    cmap=\"PuOr_r\",\n",
    ")\n",
    "\n",
    "grid.ax_cbar.set_visible(False)\n",
    "grid.ax_heatmap\n",
    "\n",
    "grid.ax_heatmap.set_ylabel(\"\")\n",
    "grid.ax_heatmap.set_xlabel(\"\")\n",
    "grid.ax_heatmap.set_title(\n",
    "    \"Asociación entre Candidatos y Estado Civil por Comuna (Fuentes: Servel, CASEN 2017, CASEN 2020)\",\n",
    "    loc=\"left\",\n",
    ")\n",
    "\n",
    "grid.fig.tight_layout()\n"
   ]
  },
  {
   "cell_type": "code",
   "execution_count": null,
   "metadata": {},
   "outputs": [],
   "source": [
    "sns.clustermap(\n",
    "    model.relation_profiles(\"candidatos\", \"migrantes\")[0][1].pipe(standardize_columns),\n",
    "    center=0,\n",
    "    figsize=(18, 12),\n",
    "    method=\"ward\",\n",
    ")\n"
   ]
  },
  {
   "cell_type": "code",
   "execution_count": null,
   "metadata": {},
   "outputs": [],
   "source": [
    "sns.clustermap(\n",
    "    model.relation_profiles(\"programa\", \"candidatos\")[0][1]\n",
    "    .pipe(standardize_rows)\n",
    "    .pipe(lambda x: x[x.abs().max(axis=1) > 0.0002]),\n",
    "    center=0,\n",
    "    figsize=(12, 24),\n",
    "    method=\"ward\",\n",
    "    col_cluster=False,\n",
    ")\n"
   ]
  },
  {
   "cell_type": "code",
   "execution_count": null,
   "metadata": {},
   "outputs": [],
   "source": []
  }
 ],
 "metadata": {
  "interpreter": {
   "hash": "3b431e4a4586af4e16ce189057d2de0af20ea6b1cbc1afcb75152152b11d78ff"
  },
  "kernelspec": {
   "display_name": "Python 3.8.12 64-bit ('aves': conda)",
   "language": "python",
   "name": "python3"
  },
  "language_info": {
   "codemirror_mode": {
    "name": "ipython",
    "version": 3
   },
   "file_extension": ".py",
   "mimetype": "text/x-python",
   "name": "python",
   "nbconvert_exporter": "python",
   "pygments_lexer": "ipython3",
   "version": "3.7.12"
  },
  "orig_nbformat": 4
 },
 "nbformat": 4,
 "nbformat_minor": 2
}
